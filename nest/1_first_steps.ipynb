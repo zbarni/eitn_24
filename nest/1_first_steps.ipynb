{
 "cells": [
  {
   "cell_type": "markdown",
   "metadata": {
    "slideshow": {
     "slide_type": "slide"
    }
   },
   "source": [
    "# PyNEST - First Steps"
   ]
  },
  {
   "cell_type": "markdown",
   "metadata": {
    "slideshow": {
     "slide_type": "-"
    }
   },
   "source": [
    "**Modeling networks of spiking neurons using NEST**\n",
    "\n",
    "**EITN Fall School 2024, 17.10.2024**\n",
    "\n",
    "**[Barna Zajzon](mailto:b.zajzon@fz-juelich.de)**"
   ]
  },
  {
   "cell_type": "markdown",
   "metadata": {
    "slideshow": {
     "slide_type": "subslide"
    }
   },
   "source": [
    "This notebook guides through your first steps using NEST. It shows\n",
    "* how to get help\n",
    "* how to create and simulate a single neuron\n",
    "* how to visualize the output\n",
    "\n",
    "Essentially, this is a reproduction of the 'Hello World!' notebook with added explanations. \n",
    "\n",
    "For more details see [part 1 of the official PyNEST tutorial](https://nest-simulator.readthedocs.io/en/latest/tutorials/pynest_tutorial/part_1_neurons_and_simple_neural_networks.html)."
   ]
  },
  {
   "cell_type": "code",
   "execution_count": 1,
   "metadata": {
    "slideshow": {
     "slide_type": "-"
    }
   },
   "outputs": [
    {
     "name": "stdout",
     "output_type": "stream",
     "text": [
      "\n",
      "              -- N E S T --\n",
      "  Copyright (C) 2004 The NEST Initiative\n",
      "\n",
      " Version: 3.7.0\n",
      " Built: May 19 2024 15:53:53\n",
      "\n",
      " This program is provided AS IS and comes with\n",
      " NO WARRANTY. See the file LICENSE for details.\n",
      "\n",
      " Problems or suggestions?\n",
      "   Visit https://www.nest-simulator.org\n",
      "\n",
      " Type 'nest.help()' to find out more about NEST.\n",
      "\n"
     ]
    }
   ],
   "source": [
    "import nest # import NEST module\n",
    "from matplotlib import pyplot as plt\n",
    "import numpy as np"
   ]
  },
  {
   "cell_type": "code",
   "execution_count": 2,
   "metadata": {},
   "outputs": [
    {
     "data": {
      "text/plain": [
       "('volume_transmitter',\n",
       " 'weight_recorder',\n",
       " 'ac_generator',\n",
       " 'dc_generator',\n",
       " 'gamma_sup_generator',\n",
       " 'mip_generator',\n",
       " 'noise_generator',\n",
       " 'inhomogeneous_poisson_generator',\n",
       " 'poisson_generator',\n",
       " 'poisson_generator_ps',\n",
       " 'ppd_sup_generator',\n",
       " 'pulsepacket_generator',\n",
       " 'sinusoidal_poisson_generator',\n",
       " 'spike_generator',\n",
       " 'step_current_generator',\n",
       " 'step_rate_generator',\n",
       " 'sinusoidal_gamma_generator',\n",
       " 'aeif_cond_alpha',\n",
       " 'aeif_cond_alpha_astro',\n",
       " 'aeif_cond_alpha_multisynapse',\n",
       " 'aeif_cond_beta_multisynapse',\n",
       " 'aeif_cond_exp',\n",
       " 'aeif_psc_alpha',\n",
       " 'aeif_psc_exp',\n",
       " 'aeif_psc_delta',\n",
       " 'astrocyte_lr_1994',\n",
       " 'gif_cond_exp',\n",
       " 'gif_cond_exp_multisynapse',\n",
       " 'glif_cond',\n",
       " 'hh_cond_exp_traub',\n",
       " 'hh_cond_beta_gap_traub',\n",
       " 'hh_psc_alpha',\n",
       " 'hh_psc_alpha_gap',\n",
       " 'ht_neuron',\n",
       " 'iaf_chxk_2008',\n",
       " 'iaf_cond_alpha',\n",
       " 'iaf_cond_alpha_mc',\n",
       " 'iaf_cond_beta',\n",
       " 'iaf_cond_exp',\n",
       " 'iaf_cond_exp_sfa_rr',\n",
       " 'siegert_neuron',\n",
       " 'amat2_psc_exp',\n",
       " 'cm_default',\n",
       " 'eprop_iaf_bsshslm_2020',\n",
       " 'eprop_iaf_adapt_bsshslm_2020',\n",
       " 'eprop_readout_bsshslm_2020',\n",
       " 'gif_psc_exp',\n",
       " 'gif_psc_exp_multisynapse',\n",
       " 'glif_psc',\n",
       " 'glif_psc_double_alpha',\n",
       " 'iaf_chs_2007',\n",
       " 'iaf_psc_alpha',\n",
       " 'iaf_psc_alpha_multisynapse',\n",
       " 'iaf_psc_alpha_ps',\n",
       " 'iaf_psc_delta',\n",
       " 'iaf_psc_delta_ps',\n",
       " 'iaf_psc_exp',\n",
       " 'iaf_psc_exp_htum',\n",
       " 'iaf_psc_exp_multisynapse',\n",
       " 'iaf_psc_exp_ps',\n",
       " 'iaf_psc_exp_ps_lossless',\n",
       " 'iaf_tum_2000',\n",
       " 'ignore_and_fire',\n",
       " 'izhikevich',\n",
       " 'mat2_psc_exp',\n",
       " 'parrot_neuron',\n",
       " 'parrot_neuron_ps',\n",
       " 'pp_psc_delta',\n",
       " 'aeif_psc_delta_clopath',\n",
       " 'hh_psc_alpha_clopath',\n",
       " 'correlation_detector',\n",
       " 'correlomatrix_detector',\n",
       " 'correlospinmatrix_detector',\n",
       " 'spike_train_injector',\n",
       " 'gif_pop_psc_exp',\n",
       " 'erfc_neuron',\n",
       " 'ginzburg_neuron',\n",
       " 'mcculloch_pitts_neuron',\n",
       " 'gauss_rate_ipn',\n",
       " 'rate_transformer_gauss',\n",
       " 'lin_rate_ipn',\n",
       " 'lin_rate_opn',\n",
       " 'rate_transformer_lin',\n",
       " 'sigmoid_rate_ipn',\n",
       " 'rate_transformer_sigmoid',\n",
       " 'sigmoid_rate_gg_1998_ipn',\n",
       " 'rate_transformer_sigmoid_gg_1998',\n",
       " 'tanh_rate_ipn',\n",
       " 'tanh_rate_opn',\n",
       " 'rate_transformer_tanh',\n",
       " 'threshold_lin_rate_ipn',\n",
       " 'threshold_lin_rate_opn',\n",
       " 'rate_transformer_threshold_lin',\n",
       " 'multimeter',\n",
       " 'voltmeter',\n",
       " 'spike_recorder',\n",
       " 'spin_detector',\n",
       " 'spike_dilutor',\n",
       " 'pp_cond_exp_mc_urbanczik')"
      ]
     },
     "execution_count": 2,
     "metadata": {},
     "output_type": "execute_result"
    }
   ],
   "source": [
    "nest.node_models\n",
    "# nest.synapse_models\n",
    "# nest.Models()"
   ]
  },
  {
   "cell_type": "markdown",
   "metadata": {
    "slideshow": {
     "slide_type": "slide"
    }
   },
   "source": [
    "## Getting help"
   ]
  },
  {
   "cell_type": "code",
   "execution_count": 3,
   "metadata": {
    "slideshow": {
     "slide_type": "subslide"
    }
   },
   "outputs": [
    {
     "name": "stdout",
     "output_type": "stream",
     "text": [
      "Help on function Models in module nest.lib.hl_api_models:\n",
      "\n",
      "Models(mtype='all', sel=None)\n",
      "    Return a tuple of neuron, device, or synapse model names.\n",
      "    \n",
      "    Parameters\n",
      "    ----------\n",
      "    mtype : str, optional\n",
      "        Use ``mtype='nodes'`` to only get neuron and device models,\n",
      "        or ``mtype='synapses'`` to only get synapse models.\n",
      "    sel : str, optional\n",
      "        Filter results and only return models containing ``sel``.\n",
      "    \n",
      "    Returns\n",
      "    -------\n",
      "    tuple\n",
      "        Available model names, sorted by name\n",
      "    \n",
      "    Raises\n",
      "    ------\n",
      "    ValueError\n",
      "        Description\n",
      "    \n",
      "    Notes\n",
      "    -----\n",
      "    - Synapse model names ending in ``_hpc`` require less memory because of\n",
      "      thread-local indices for target neuron IDs and fixed ``rport``\\s of 0.\n",
      "    - Synapse model names ending in ``_lbl`` allow to assign an integer label\n",
      "      (``synapse_label``) to each individual synapse, at the cost of increased\n",
      "      memory requirements.\n",
      "\n"
     ]
    }
   ],
   "source": [
    "# information about functions with Python's help() ...\n",
    "help(nest.Models)"
   ]
  },
  {
   "cell_type": "code",
   "execution_count": 4,
   "metadata": {
    "slideshow": {
     "slide_type": "subslide"
    }
   },
   "outputs": [],
   "source": [
    "# ... or IPython's question mark\n",
    "nest.Models?"
   ]
  },
  {
   "cell_type": "markdown",
   "metadata": {
    "slideshow": {
     "slide_type": "slide"
    }
   },
   "source": [
    "## Creating a neuron"
   ]
  },
  {
   "cell_type": "code",
   "execution_count": 4,
   "metadata": {
    "slideshow": {
     "slide_type": "subslide"
    }
   },
   "outputs": [],
   "source": [
    "# before creating a new network,\n",
    "# reset the simulation kernel / remove all nodes\n",
    "nest.ResetKernel()"
   ]
  },
  {
   "cell_type": "code",
   "execution_count": 5,
   "metadata": {
    "slideshow": {
     "slide_type": "-"
    }
   },
   "outputs": [],
   "source": [
    "# create the neuron\n",
    "neuron = nest.Create('iaf_psc_exp')"
   ]
  },
  {
   "cell_type": "code",
   "execution_count": 6,
   "metadata": {
    "slideshow": {
     "slide_type": "-"
    }
   },
   "outputs": [
    {
     "data": {
      "text/plain": [
       "NodeCollection(metadata=None, model=iaf_psc_exp, size=1, first=1)"
      ]
     },
     "execution_count": 6,
     "metadata": {},
     "output_type": "execute_result"
    }
   ],
   "source": [
    "# investigate the neuron\n",
    "\n",
    "# Create() just returns a list node collection yielding the size and the first GID.\n",
    "# One can add node collections to create larger populations\n",
    "neuron"
   ]
  },
  {
   "cell_type": "code",
   "execution_count": 7,
   "metadata": {
    "slideshow": {
     "slide_type": "subslide"
    }
   },
   "outputs": [
    {
     "data": {
      "text/plain": [
       "{'archiver_length': 0,\n",
       " 'beta_Ca': 0.001,\n",
       " 'C_m': 250.0,\n",
       " 'Ca': 0.0,\n",
       " 'delta': 0.0,\n",
       " 'E_L': -70.0,\n",
       " 'element_type': 'neuron',\n",
       " 'frozen': False,\n",
       " 'global_id': 1,\n",
       " 'I_e': 0.0,\n",
       " 'local': True,\n",
       " 'model': 'iaf_psc_exp',\n",
       " 'model_id': 54,\n",
       " 'node_uses_wfr': False,\n",
       " 'post_trace': 0.0,\n",
       " 'recordables': ('I_syn_ex', 'I_syn_in', 'V_m'),\n",
       " 'rho': 0.01,\n",
       " 'synaptic_elements': {},\n",
       " 't_ref': 2.0,\n",
       " 't_spike': -1.0,\n",
       " 'tau_Ca': 10000.0,\n",
       " 'tau_m': 10.0,\n",
       " 'tau_minus': 20.0,\n",
       " 'tau_minus_triplet': 110.0,\n",
       " 'tau_syn_ex': 2.0,\n",
       " 'tau_syn_in': 2.0,\n",
       " 'thread': 0,\n",
       " 'thread_local_id': -1,\n",
       " 'V_m': -70.0,\n",
       " 'V_reset': -70.0,\n",
       " 'V_th': -55.0,\n",
       " 'vp': 0}"
      ]
     },
     "execution_count": 7,
     "metadata": {},
     "output_type": "execute_result"
    }
   ],
   "source": [
    "# current dynamical state/parameters of the neuron\n",
    "# note that the membrane voltage is at -70 mV\n",
    "\n",
    "neuron.get()"
   ]
  },
  {
   "cell_type": "markdown",
   "metadata": {
    "slideshow": {
     "slide_type": "slide"
    }
   },
   "source": [
    "## Creating a spike generator"
   ]
  },
  {
   "cell_type": "code",
   "execution_count": 8,
   "metadata": {
    "slideshow": {
     "slide_type": "subslide"
    }
   },
   "outputs": [],
   "source": [
    "# create a spike generator\n",
    "spikegenerator = nest.Create('spike_generator')"
   ]
  },
  {
   "cell_type": "code",
   "execution_count": 9,
   "metadata": {
    "slideshow": {
     "slide_type": "-"
    }
   },
   "outputs": [
    {
     "data": {
      "text/plain": [
       "{'allow_offgrid_times': False,\n",
       " 'element_type': 'stimulator',\n",
       " 'frozen': False,\n",
       " 'global_id': 2,\n",
       " 'label': '',\n",
       " 'local': True,\n",
       " 'model': 'spike_generator',\n",
       " 'model_id': 11,\n",
       " 'node_uses_wfr': False,\n",
       " 'origin': 0.0,\n",
       " 'precise_times': False,\n",
       " 'shift_now_spikes': False,\n",
       " 'spike_multiplicities': array([], dtype=int64),\n",
       " 'spike_times': array([], dtype=float64),\n",
       " 'spike_weights': array([], dtype=float64),\n",
       " 'start': 0.0,\n",
       " 'stimulus_source': '0',\n",
       " 'stop': 1.7976931348623157e+308,\n",
       " 'thread': 0,\n",
       " 'thread_local_id': -1,\n",
       " 'vp': 0}"
      ]
     },
     "execution_count": 9,
     "metadata": {},
     "output_type": "execute_result"
    }
   ],
   "source": [
    "# check out 'spike_times' in its parameters\n",
    "spikegenerator.get()"
   ]
  },
  {
   "cell_type": "code",
   "execution_count": 10,
   "metadata": {
    "slideshow": {
     "slide_type": "subslide"
    }
   },
   "outputs": [],
   "source": [
    "# set the spike times at 10 and 50 ms\n",
    "spikegenerator.spike_times = [10., 50., 55., 63., 65., 68., 100., 110., 115., 120., 122., 125.]"
   ]
  },
  {
   "cell_type": "markdown",
   "metadata": {
    "slideshow": {
     "slide_type": "slide"
    }
   },
   "source": [
    "## Creating a voltmeter"
   ]
  },
  {
   "cell_type": "code",
   "execution_count": 11,
   "metadata": {
    "slideshow": {
     "slide_type": "subslide"
    }
   },
   "outputs": [],
   "source": [
    "# create a voltmeter for recording\n",
    "voltmeter = nest.Create('voltmeter')"
   ]
  },
  {
   "cell_type": "code",
   "execution_count": 12,
   "metadata": {
    "slideshow": {
     "slide_type": "-"
    }
   },
   "outputs": [
    {
     "data": {
      "text/plain": [
       "NodeCollection(metadata=None, model=voltmeter, size=1, first=3)"
      ]
     },
     "execution_count": 12,
     "metadata": {},
     "output_type": "execute_result"
    }
   ],
   "source": [
    "# investigate the voltmeter (check out the GID)\n",
    "voltmeter"
   ]
  },
  {
   "cell_type": "code",
   "execution_count": 14,
   "metadata": {
    "slideshow": {
     "slide_type": "-"
    }
   },
   "outputs": [
    {
     "data": {
      "text/plain": [
       "{'element_type': 'recorder',\n",
       " 'events': {'senders': array([], dtype=int64),\n",
       "  'times': array([], dtype=float64)},\n",
       " 'frozen': False,\n",
       " 'global_id': 3,\n",
       " 'interval': 1.0,\n",
       " 'label': '',\n",
       " 'local': True,\n",
       " 'model': 'voltmeter',\n",
       " 'model_id': 93,\n",
       " 'n_events': 0,\n",
       " 'node_uses_wfr': False,\n",
       " 'offset': 0.0,\n",
       " 'origin': 0.0,\n",
       " 'record_from': ('V_m',),\n",
       " 'record_to': 'memory',\n",
       " 'start': 0.0,\n",
       " 'stop': 1.7976931348623157e+308,\n",
       " 'thread': 0,\n",
       " 'thread_local_id': -1,\n",
       " 'time_in_steps': False,\n",
       " 'vp': 0}"
      ]
     },
     "execution_count": 14,
     "metadata": {},
     "output_type": "execute_result"
    }
   ],
   "source": [
    "# see that it records membrane voltage, senders, times\n",
    "voltmeter.get()"
   ]
  },
  {
   "cell_type": "code",
   "execution_count": 16,
   "metadata": {},
   "outputs": [
    {
     "data": {
      "text/plain": [
       "0.1"
      ]
     },
     "execution_count": 16,
     "metadata": {},
     "output_type": "execute_result"
    }
   ],
   "source": [
    "# set recording interval to 0.1 ms\n",
    "voltmeter.interval = 0.1\n",
    "voltmeter.interval"
   ]
  },
  {
   "cell_type": "markdown",
   "metadata": {
    "slideshow": {
     "slide_type": "-"
    }
   },
   "source": [
    "## Creating a spike detector"
   ]
  },
  {
   "cell_type": "code",
   "execution_count": 17,
   "metadata": {
    "slideshow": {
     "slide_type": "-"
    }
   },
   "outputs": [],
   "source": [
    "# create a spike detector for recording\n",
    "spikerecorder = nest.Create('spike_recorder')"
   ]
  },
  {
   "cell_type": "code",
   "execution_count": 18,
   "metadata": {
    "slideshow": {
     "slide_type": "-"
    }
   },
   "outputs": [
    {
     "data": {
      "text/plain": [
       "NodeCollection(metadata=None, model=spike_recorder, size=1, first=4)"
      ]
     },
     "execution_count": 18,
     "metadata": {},
     "output_type": "execute_result"
    }
   ],
   "source": [
    "# investigate the voltmeter\n",
    "spikerecorder"
   ]
  },
  {
   "cell_type": "code",
   "execution_count": 19,
   "metadata": {
    "slideshow": {
     "slide_type": "-"
    }
   },
   "outputs": [
    {
     "data": {
      "text/plain": [
       "{'element_type': 'recorder',\n",
       " 'events': {'senders': array([], dtype=int64),\n",
       "  'times': array([], dtype=float64)},\n",
       " 'frozen': False,\n",
       " 'global_id': 4,\n",
       " 'label': '',\n",
       " 'local': True,\n",
       " 'model': 'spike_recorder',\n",
       " 'model_id': 94,\n",
       " 'n_events': 0,\n",
       " 'node_uses_wfr': False,\n",
       " 'origin': 0.0,\n",
       " 'record_to': 'memory',\n",
       " 'start': 0.0,\n",
       " 'stop': 1.7976931348623157e+308,\n",
       " 'thread': 0,\n",
       " 'thread_local_id': -1,\n",
       " 'time_in_steps': False,\n",
       " 'vp': 0}"
      ]
     },
     "execution_count": 19,
     "metadata": {},
     "output_type": "execute_result"
    }
   ],
   "source": [
    "# see that it records membrane voltage, senders, times\n",
    "spikerecorder.get()"
   ]
  },
  {
   "cell_type": "markdown",
   "metadata": {
    "slideshow": {
     "slide_type": "slide"
    }
   },
   "source": [
    "## Connecting"
   ]
  },
  {
   "cell_type": "code",
   "execution_count": 20,
   "metadata": {
    "slideshow": {
     "slide_type": "subslide"
    }
   },
   "outputs": [
    {
     "data": {
      "text/plain": [
       "\u001b[0;31mSignature:\u001b[0m\n",
       "\u001b[0mnest\u001b[0m\u001b[0;34m.\u001b[0m\u001b[0mConnect\u001b[0m\u001b[0;34m(\u001b[0m\u001b[0;34m\u001b[0m\n",
       "\u001b[0;34m\u001b[0m    \u001b[0mpre\u001b[0m\u001b[0;34m,\u001b[0m\u001b[0;34m\u001b[0m\n",
       "\u001b[0;34m\u001b[0m    \u001b[0mpost\u001b[0m\u001b[0;34m,\u001b[0m\u001b[0;34m\u001b[0m\n",
       "\u001b[0;34m\u001b[0m    \u001b[0mconn_spec\u001b[0m\u001b[0;34m=\u001b[0m\u001b[0;32mNone\u001b[0m\u001b[0;34m,\u001b[0m\u001b[0;34m\u001b[0m\n",
       "\u001b[0;34m\u001b[0m    \u001b[0msyn_spec\u001b[0m\u001b[0;34m=\u001b[0m\u001b[0;32mNone\u001b[0m\u001b[0;34m,\u001b[0m\u001b[0;34m\u001b[0m\n",
       "\u001b[0;34m\u001b[0m    \u001b[0mreturn_synapsecollection\u001b[0m\u001b[0;34m=\u001b[0m\u001b[0;32mFalse\u001b[0m\u001b[0;34m,\u001b[0m\u001b[0;34m\u001b[0m\n",
       "\u001b[0;34m\u001b[0m\u001b[0;34m)\u001b[0m\u001b[0;34m\u001b[0m\u001b[0;34m\u001b[0m\u001b[0m\n",
       "\u001b[0;31mDocstring:\u001b[0m\n",
       "Connect `pre` nodes to `post` nodes.\n",
       "\n",
       "Nodes in `pre` and `post` are connected using the specified connectivity\n",
       "(`all-to-all` by default) and synapse type (:cpp:class:`static_synapse <nest::static_synapse>` by default).\n",
       "Details depend on the connectivity rule.\n",
       "\n",
       "Lists of synapse models and connection rules are available as\n",
       "``nest.synapse_models`` and ``nest.connection_rules``, respectively.\n",
       "\n",
       "Parameters\n",
       "----------\n",
       "pre : NodeCollection (or array-like object)\n",
       "    Presynaptic nodes, as object representing the IDs of the nodes\n",
       "post : NodeCollection (or array-like object)\n",
       "    Postsynaptic nodes, as object representing the IDs of the nodes\n",
       "conn_spec : str or dict, optional\n",
       "    Specifies connectivity rule, see below\n",
       "syn_spec : str or dict, optional\n",
       "    Specifies synapse model, see below\n",
       "return_synapsecollection: bool\n",
       "    Specifies whether or not we should return a :py:class:`.SynapseCollection` of pre and post connections\n",
       "\n",
       "Raises\n",
       "------\n",
       "kernel.NESTError\n",
       "\n",
       "Notes\n",
       "-----\n",
       "It is possible to connect NumPy arrays of node IDs one-to-one by passing the arrays as `pre` and `post`,\n",
       "specifying `'one_to_one'` for `conn_spec`.\n",
       "In that case, the arrays may contain non-unique IDs.\n",
       "You may also specify weight, delay, and receptor type for each connection as NumPy arrays in the `syn_spec`\n",
       "dictionary.\n",
       "This feature is currently not available when MPI is used; trying to connect arrays with more than one\n",
       "MPI process will raise an error.\n",
       "\n",
       "If pre and post have spatial positions, a `mask` can be specified as a dictionary. The mask define which\n",
       "nodes are considered as potential targets for each source node. Connections with spatial nodes can also\n",
       "use `nest.spatial_distributions` as parameters, for instance for the probability `p`.\n",
       "\n",
       "**Connectivity specification (conn_spec)**\n",
       "\n",
       "Available rules and associated parameters::\n",
       "\n",
       " - 'all_to_all' (default)\n",
       " - 'one_to_one'\n",
       " - 'fixed_indegree', 'indegree'\n",
       " - 'fixed_outdegree', 'outdegree'\n",
       " - 'fixed_total_number', 'N'\n",
       " - 'pairwise_bernoulli', 'p'\n",
       " - 'symmetric_pairwise_bernoulli', 'p'\n",
       " - 'pairwise_poisson', 'pairwise_avg_num_conns'\n",
       "\n",
       "See :ref:`conn_rules` for more details, including example usage.\n",
       "\n",
       "**Synapse specification (syn_spec)**\n",
       "\n",
       "The synapse model and its properties can be given either as a string\n",
       "identifying a specific synapse model (default: :cpp:class:`static_synapse <nest::static_synapse>`) or\n",
       "as a dictionary specifying the synapse model and its parameters.\n",
       "\n",
       "Available keys in the synapse specification dictionary are::\n",
       "\n",
       " - 'synapse_model'\n",
       " - 'weight'\n",
       " - 'delay'\n",
       " - 'receptor_type'\n",
       " - any parameters specific to the selected synapse model.\n",
       "\n",
       "See :ref:`synapse_spec` for details, including example usage.\n",
       "\n",
       "All parameters are optional and if not specified, the default values\n",
       "of the synapse model will be used. The key 'synapse_model' identifies the\n",
       "synapse model, this can be one of NEST's built-in synapse models\n",
       "or a user-defined model created via :py:func:`.CopyModel`.\n",
       "\n",
       "If `synapse_model` is not specified the default model :cpp:class:`static_synapse <nest::static_synapse>`\n",
       "will be used.\n",
       "\n",
       "Distributed parameters can be defined through NEST's different parametertypes. NEST has various\n",
       "random parameters, spatial parameters and distributions (only accessible for nodes with spatial positions),\n",
       "logical expressions and mathematical expressions, which can be used to define node and connection parameters.\n",
       "\n",
       "To see all available parameters, see documentation defined in distributions, logic, math,\n",
       "random and spatial modules.\n",
       "\n",
       "See Also\n",
       "---------\n",
       ":ref:`connectivity_concepts`\n",
       "\u001b[0;31mFile:\u001b[0m      /srv/main-spack-instance-2402/spack/var/spack/environments/ebrains-24-04/.spack-env/view/lib/python3.8/site-packages/nest/lib/hl_api_connections.py\n",
       "\u001b[0;31mType:\u001b[0m      function"
      ]
     },
     "metadata": {},
     "output_type": "display_data"
    }
   ],
   "source": [
    "# investigate Connect() function\n",
    "nest.Connect?"
   ]
  },
  {
   "cell_type": "code",
   "execution_count": 21,
   "metadata": {
    "slideshow": {
     "slide_type": "subslide"
    }
   },
   "outputs": [],
   "source": [
    "# connect spike generator and voltmeter to the neuron\n",
    "nest.Connect(spikegenerator, neuron, syn_spec={'weight': 1e3})"
   ]
  },
  {
   "cell_type": "code",
   "execution_count": 22,
   "metadata": {
    "slideshow": {
     "slide_type": "-"
    }
   },
   "outputs": [],
   "source": [
    "nest.Connect(voltmeter, neuron)\n",
    "nest.Connect(neuron, spikerecorder) # note the changed order"
   ]
  },
  {
   "cell_type": "markdown",
   "metadata": {
    "slideshow": {
     "slide_type": "slide"
    }
   },
   "source": [
    "## Simulating"
   ]
  },
  {
   "cell_type": "code",
   "execution_count": 23,
   "metadata": {
    "slideshow": {
     "slide_type": "subslide"
    }
   },
   "outputs": [
    {
     "name": "stdout",
     "output_type": "stream",
     "text": [
      "\n",
      "Oct 11 08:30:02 NodeManager::prepare_nodes [Info]: \n",
      "    Preparing 4 nodes for simulation.\n",
      "\n",
      "Oct 11 08:30:02 SimulationManager::start_updating_ [Info]: \n",
      "    Number of local nodes: 4\n",
      "    Simulation time (ms): 200\n",
      "    Number of OpenMP threads: 1\n",
      "    Number of MPI processes: 1\n",
      "\n",
      "Oct 11 08:30:02 SimulationManager::run [Info]: \n",
      "    Simulation finished.\n"
     ]
    }
   ],
   "source": [
    "# run simulation for 100 ms\n",
    "nest.Simulate(200.)"
   ]
  },
  {
   "cell_type": "code",
   "execution_count": 24,
   "metadata": {
    "slideshow": {
     "slide_type": "subslide"
    }
   },
   "outputs": [
    {
     "data": {
      "text/plain": [
       "{'adaptive_target_buffers': True,\n",
       " 'biological_time': 200.0,\n",
       " 'buffer_size_spike_data': 2,\n",
       " 'buffer_size_target_data': 2,\n",
       " 'connection_rules': ('pairwise_poisson',\n",
       "  'one_to_one',\n",
       "  'all_to_all',\n",
       "  'fixed_indegree',\n",
       "  'fixed_outdegree',\n",
       "  'pairwise_bernoulli',\n",
       "  'tripartite_bernoulli_with_pool',\n",
       "  'symmetric_pairwise_bernoulli',\n",
       "  'fixed_total_number'),\n",
       " 'data_path': '',\n",
       " 'data_prefix': '',\n",
       " 'dict_miss_is_error': True,\n",
       " 'eprop_learning_window': 1000.0,\n",
       " 'eprop_reset_neurons_on_update': True,\n",
       " 'eprop_update_interval': 1000.0,\n",
       " 'growth_curves': ('gaussian', 'linear', 'sigmoid'),\n",
       " 'growth_factor_buffer_spike_data': 1.5,\n",
       " 'growth_factor_buffer_target_data': 1.5,\n",
       " 'keep_source_table': True,\n",
       " 'local_num_threads': 1,\n",
       " 'local_spike_counter': 2,\n",
       " 'max_buffer_size_target_data': 16777216,\n",
       " 'max_delay': 1.0,\n",
       " 'max_num_syn_models': 512,\n",
       " 'max_update_time': 7.999999999999998e-06,\n",
       " 'min_delay': 1.0,\n",
       " 'min_update_time': 0.0,\n",
       " 'modules': (),\n",
       " 'ms_per_tic': 0.001,\n",
       " 'network_size': 4,\n",
       " 'node_models': ('volume_transmitter',\n",
       "  'weight_recorder',\n",
       "  'ac_generator',\n",
       "  'dc_generator',\n",
       "  'gamma_sup_generator',\n",
       "  'mip_generator',\n",
       "  'noise_generator',\n",
       "  'inhomogeneous_poisson_generator',\n",
       "  'poisson_generator',\n",
       "  'poisson_generator_ps',\n",
       "  'ppd_sup_generator',\n",
       "  'pulsepacket_generator',\n",
       "  'sinusoidal_poisson_generator',\n",
       "  'spike_generator',\n",
       "  'step_current_generator',\n",
       "  'step_rate_generator',\n",
       "  'sinusoidal_gamma_generator',\n",
       "  'aeif_cond_alpha',\n",
       "  'aeif_cond_alpha_astro',\n",
       "  'aeif_cond_alpha_multisynapse',\n",
       "  'aeif_cond_beta_multisynapse',\n",
       "  'aeif_cond_exp',\n",
       "  'aeif_psc_alpha',\n",
       "  'aeif_psc_exp',\n",
       "  'aeif_psc_delta',\n",
       "  'astrocyte_lr_1994',\n",
       "  'gif_cond_exp',\n",
       "  'gif_cond_exp_multisynapse',\n",
       "  'glif_cond',\n",
       "  'hh_cond_exp_traub',\n",
       "  'hh_cond_beta_gap_traub',\n",
       "  'hh_psc_alpha',\n",
       "  'hh_psc_alpha_gap',\n",
       "  'ht_neuron',\n",
       "  'iaf_chxk_2008',\n",
       "  'iaf_cond_alpha',\n",
       "  'iaf_cond_alpha_mc',\n",
       "  'iaf_cond_beta',\n",
       "  'iaf_cond_exp',\n",
       "  'iaf_cond_exp_sfa_rr',\n",
       "  'siegert_neuron',\n",
       "  'amat2_psc_exp',\n",
       "  'cm_default',\n",
       "  'eprop_iaf_bsshslm_2020',\n",
       "  'eprop_iaf_adapt_bsshslm_2020',\n",
       "  'eprop_readout_bsshslm_2020',\n",
       "  'gif_psc_exp',\n",
       "  'gif_psc_exp_multisynapse',\n",
       "  'glif_psc',\n",
       "  'glif_psc_double_alpha',\n",
       "  'iaf_chs_2007',\n",
       "  'iaf_psc_alpha',\n",
       "  'iaf_psc_alpha_multisynapse',\n",
       "  'iaf_psc_alpha_ps',\n",
       "  'iaf_psc_delta',\n",
       "  'iaf_psc_delta_ps',\n",
       "  'iaf_psc_exp',\n",
       "  'iaf_psc_exp_htum',\n",
       "  'iaf_psc_exp_multisynapse',\n",
       "  'iaf_psc_exp_ps',\n",
       "  'iaf_psc_exp_ps_lossless',\n",
       "  'iaf_tum_2000',\n",
       "  'ignore_and_fire',\n",
       "  'izhikevich',\n",
       "  'mat2_psc_exp',\n",
       "  'parrot_neuron',\n",
       "  'parrot_neuron_ps',\n",
       "  'pp_psc_delta',\n",
       "  'aeif_psc_delta_clopath',\n",
       "  'hh_psc_alpha_clopath',\n",
       "  'correlation_detector',\n",
       "  'correlomatrix_detector',\n",
       "  'correlospinmatrix_detector',\n",
       "  'spike_train_injector',\n",
       "  'gif_pop_psc_exp',\n",
       "  'erfc_neuron',\n",
       "  'ginzburg_neuron',\n",
       "  'mcculloch_pitts_neuron',\n",
       "  'gauss_rate_ipn',\n",
       "  'rate_transformer_gauss',\n",
       "  'lin_rate_ipn',\n",
       "  'lin_rate_opn',\n",
       "  'rate_transformer_lin',\n",
       "  'sigmoid_rate_ipn',\n",
       "  'rate_transformer_sigmoid',\n",
       "  'sigmoid_rate_gg_1998_ipn',\n",
       "  'rate_transformer_sigmoid_gg_1998',\n",
       "  'tanh_rate_ipn',\n",
       "  'tanh_rate_opn',\n",
       "  'rate_transformer_tanh',\n",
       "  'threshold_lin_rate_ipn',\n",
       "  'threshold_lin_rate_opn',\n",
       "  'rate_transformer_threshold_lin',\n",
       "  'multimeter',\n",
       "  'voltmeter',\n",
       "  'spike_recorder',\n",
       "  'spin_detector',\n",
       "  'spike_dilutor',\n",
       "  'pp_cond_exp_mc_urbanczik'),\n",
       " 'num_connections': 3,\n",
       " 'num_processes': 1,\n",
       " 'off_grid_spiking': False,\n",
       " 'overwrite_files': False,\n",
       " 'prepared': False,\n",
       " 'print_time': False,\n",
       " 'recording_backends': ('memory', 'ascii', 'screen', 'mpi'),\n",
       " 'recv_buffer_size_secondary_events': 0,\n",
       " 'resolution': 0.1,\n",
       " 'rng_seed': 143202461,\n",
       " 'rng_type': 'mt19937_64',\n",
       " 'rng_types': ('Philox_32',\n",
       "  'Philox_64',\n",
       "  'Threefry_32',\n",
       "  'Threefry_64',\n",
       "  'mt19937',\n",
       "  'mt19937_64'),\n",
       " 'send_buffer_size_secondary_events': 0,\n",
       " 'spike_buffer_grow_extra': 0.5,\n",
       " 'spike_buffer_resize_log': {'times': array([], dtype=int64),\n",
       "  'global_max_spikes_sent': array([], dtype=int64),\n",
       "  'new_buffer_size': array([], dtype=int64)},\n",
       " 'spike_buffer_shrink_limit': 0.2,\n",
       " 'spike_buffer_shrink_spare': 0.1,\n",
       " 'stimulation_backends': ('mpi',),\n",
       " 'structural_plasticity_synapses': {},\n",
       " 'structural_plasticity_update_interval': 10000.0,\n",
       " 'synapse_models': ('bernoulli_synapse',\n",
       "  'bernoulli_synapse_hpc',\n",
       "  'bernoulli_synapse_lbl',\n",
       "  'clopath_synapse',\n",
       "  'clopath_synapse_hpc',\n",
       "  'clopath_synapse_lbl',\n",
       "  'cont_delay_synapse',\n",
       "  'cont_delay_synapse_hpc',\n",
       "  'cont_delay_synapse_lbl',\n",
       "  'diffusion_connection',\n",
       "  'eprop_synapse_bsshslm_2020',\n",
       "  'eprop_synapse_bsshslm_2020_hpc',\n",
       "  'eprop_learning_signal_connection_bsshslm_2020',\n",
       "  'gap_junction',\n",
       "  'ht_synapse',\n",
       "  'ht_synapse_hpc',\n",
       "  'ht_synapse_lbl',\n",
       "  'jonke_synapse',\n",
       "  'jonke_synapse_hpc',\n",
       "  'jonke_synapse_lbl',\n",
       "  'quantal_stp_synapse',\n",
       "  'quantal_stp_synapse_hpc',\n",
       "  'quantal_stp_synapse_lbl',\n",
       "  'rate_connection_delayed',\n",
       "  'rate_connection_instantaneous',\n",
       "  'sic_connection',\n",
       "  'static_synapse',\n",
       "  'static_synapse_hpc',\n",
       "  'static_synapse_lbl',\n",
       "  'static_synapse_hom_w',\n",
       "  'static_synapse_hom_w_hpc',\n",
       "  'static_synapse_hom_w_lbl',\n",
       "  'stdp_dopamine_synapse',\n",
       "  'stdp_dopamine_synapse_hpc',\n",
       "  'stdp_dopamine_synapse_lbl',\n",
       "  'stdp_nn_pre_centered_synapse',\n",
       "  'stdp_nn_pre_centered_synapse_hpc',\n",
       "  'stdp_nn_pre_centered_synapse_lbl',\n",
       "  'stdp_nn_restr_synapse',\n",
       "  'stdp_nn_restr_synapse_hpc',\n",
       "  'stdp_nn_restr_synapse_lbl',\n",
       "  'stdp_nn_symm_synapse',\n",
       "  'stdp_nn_symm_synapse_hpc',\n",
       "  'stdp_nn_symm_synapse_lbl',\n",
       "  'stdp_pl_synapse_hom',\n",
       "  'stdp_pl_synapse_hom_hpc',\n",
       "  'stdp_pl_synapse_hom_lbl',\n",
       "  'stdp_synapse',\n",
       "  'stdp_synapse_hpc',\n",
       "  'stdp_synapse_lbl',\n",
       "  'stdp_facetshw_synapse_hom',\n",
       "  'stdp_facetshw_synapse_hom_hpc',\n",
       "  'stdp_facetshw_synapse_hom_lbl',\n",
       "  'stdp_synapse_hom',\n",
       "  'stdp_synapse_hom_hpc',\n",
       "  'stdp_synapse_hom_lbl',\n",
       "  'stdp_triplet_synapse',\n",
       "  'stdp_triplet_synapse_hpc',\n",
       "  'stdp_triplet_synapse_lbl',\n",
       "  'tsodyks2_synapse',\n",
       "  'tsodyks2_synapse_hpc',\n",
       "  'tsodyks2_synapse_lbl',\n",
       "  'tsodyks_synapse',\n",
       "  'tsodyks_synapse_hpc',\n",
       "  'tsodyks_synapse_lbl',\n",
       "  'tsodyks_synapse_hom',\n",
       "  'tsodyks_synapse_hom_hpc',\n",
       "  'tsodyks_synapse_hom_lbl',\n",
       "  'urbanczik_synapse',\n",
       "  'urbanczik_synapse_hpc',\n",
       "  'urbanczik_synapse_lbl',\n",
       "  'vogels_sprekeler_synapse',\n",
       "  'vogels_sprekeler_synapse_hpc',\n",
       "  'vogels_sprekeler_synapse_lbl'),\n",
       " 'T_max': 1152921504606846.8,\n",
       " 'T_min': -1152921504606846.8,\n",
       " 'tics_per_ms': 1000.0,\n",
       " 'tics_per_step': 100,\n",
       " 'time_communicate_prepare': 3.8e-05,\n",
       " 'time_construction_connect': 0.000187,\n",
       " 'time_construction_create': 0.000109,\n",
       " 'time_simulate': 0.000318,\n",
       " 'to_do': 0,\n",
       " 'total_num_virtual_procs': 1,\n",
       " 'update_time_limit': inf,\n",
       " 'use_compressed_spikes': True,\n",
       " 'use_wfr': True,\n",
       " 'wfr_comm_interval': 1.0,\n",
       " 'wfr_interpolation_order': 3,\n",
       " 'wfr_max_iterations': 15,\n",
       " 'wfr_tol': 0.0001}"
      ]
     },
     "execution_count": 24,
     "metadata": {},
     "output_type": "execute_result"
    }
   ],
   "source": [
    "# look at nest's KernelStatus:\n",
    "# network_size (root node, neuron, spike generator, voltmeter)\n",
    "# num_connections\n",
    "# time (simulation duration)\n",
    "nest.GetKernelStatus()"
   ]
  },
  {
   "cell_type": "code",
   "execution_count": 25,
   "metadata": {
    "slideshow": {
     "slide_type": "subslide"
    }
   },
   "outputs": [
    {
     "data": {
      "text/plain": [
       "{'element_type': 'recorder',\n",
       " 'events': {'senders': array([1, 1, 1, ..., 1, 1, 1]),\n",
       "  'times': array([1.000e-01, 2.000e-01, 3.000e-01, ..., 1.988e+02, 1.989e+02,\n",
       "         1.990e+02]),\n",
       "  'V_m': array([-70.        , -70.        , -70.        , ..., -69.99047752,\n",
       "         -69.99057227, -69.99066608])},\n",
       " 'frozen': False,\n",
       " 'global_id': 3,\n",
       " 'interval': 0.1,\n",
       " 'label': '',\n",
       " 'local': True,\n",
       " 'model': 'voltmeter',\n",
       " 'model_id': 93,\n",
       " 'n_events': 1990,\n",
       " 'node_uses_wfr': False,\n",
       " 'offset': 0.0,\n",
       " 'origin': 0.0,\n",
       " 'record_from': ('V_m',),\n",
       " 'record_to': 'memory',\n",
       " 'start': 0.0,\n",
       " 'stop': 1.7976931348623157e+308,\n",
       " 'thread': 0,\n",
       " 'thread_local_id': 2,\n",
       " 'time_in_steps': False,\n",
       " 'vp': 0}"
      ]
     },
     "execution_count": 25,
     "metadata": {},
     "output_type": "execute_result"
    }
   ],
   "source": [
    "# note that voltmeter has recorded 99 events\n",
    "voltmeter.get()"
   ]
  },
  {
   "cell_type": "code",
   "execution_count": 28,
   "metadata": {
    "slideshow": {
     "slide_type": "subslide"
    }
   },
   "outputs": [],
   "source": [
    "# read out recording time and voltage from voltmeter\n",
    "times = voltmeter.get('events')['times']\n",
    "voltages = voltmeter.get('events')['V_m']"
   ]
  },
  {
   "cell_type": "code",
   "execution_count": 26,
   "metadata": {
    "slideshow": {
     "slide_type": "subslide"
    }
   },
   "outputs": [
    {
     "data": {
      "text/plain": [
       "{'element_type': 'recorder',\n",
       " 'events': {'senders': array([1, 1]), 'times': array([ 69.1, 123.5])},\n",
       " 'frozen': False,\n",
       " 'global_id': 4,\n",
       " 'label': '',\n",
       " 'local': True,\n",
       " 'model': 'spike_recorder',\n",
       " 'model_id': 56,\n",
       " 'n_events': 2,\n",
       " 'node_uses_wfr': False,\n",
       " 'origin': 0.0,\n",
       " 'record_to': 'memory',\n",
       " 'start': 0.0,\n",
       " 'stop': 1.7976931348623157e+308,\n",
       " 'thread': 0,\n",
       " 'thread_local_id': 3,\n",
       " 'time_in_steps': False,\n",
       " 'vp': 0}"
      ]
     },
     "execution_count": 26,
     "metadata": {},
     "output_type": "execute_result"
    }
   ],
   "source": [
    "# now have a look at the spikedetector\n",
    "spikerecorder.get()"
   ]
  },
  {
   "cell_type": "code",
   "execution_count": 26,
   "metadata": {
    "slideshow": {
     "slide_type": "subslide"
    }
   },
   "outputs": [],
   "source": [
    "spike_times = spikerecorder.events['times']"
   ]
  },
  {
   "cell_type": "markdown",
   "metadata": {
    "slideshow": {
     "slide_type": "slide"
    }
   },
   "source": [
    "## Plotting"
   ]
  },
  {
   "cell_type": "code",
   "execution_count": 31,
   "metadata": {
    "slideshow": {
     "slide_type": "subslide"
    }
   },
   "outputs": [
    {
     "data": {
      "image/png": "[encoded data removed]",
      "text/plain": [
       "<Figure size 640x480 with 1 Axes>"
      ]
     },
     "metadata": {},
     "output_type": "display_data"
    }
   ],
   "source": [
    "%matplotlib inline\n",
    "# plot results\n",
    "# units can be found in documentation\n",
    "plt.plot(times, voltages, label='Neuron 1')\n",
    "plt.xlabel('Time (ms)')\n",
    "plt.ylabel('Membrane potential (mV)')\n",
    "plt.title('Membrane potential')\n",
    "plt.legend()\n",
    "plt.show()"
   ]
  },
  {
   "cell_type": "code",
   "execution_count": 32,
   "metadata": {
    "slideshow": {
     "slide_type": "subslide"
    }
   },
   "outputs": [
    {
     "data": {
      "image/png": "[encoded data removed]",
      "text/plain": [
       "<Figure size 640x480 with 1 Axes>"
      ]
     },
     "metadata": {},
     "output_type": "display_data"
    }
   ],
   "source": [
    "plt.plot(spike_times, np.zeros(len(spike_times)), marker = 'o', linestyle = ' ' )\n",
    "plt.xlabel('Time (ms)')\n",
    "plt.xlim(0,200)\n",
    "plt.yticks([])\n",
    "plt.title('Spike times')\n",
    "plt.show()"
   ]
  },
  {
   "cell_type": "code",
   "execution_count": 33,
   "metadata": {
    "slideshow": {
     "slide_type": "subslide"
    }
   },
   "outputs": [],
   "source": [
    "# create the same plot with NEST's build-in plotting function\n",
    "import nest.voltage_trace"
   ]
  },
  {
   "cell_type": "code",
   "execution_count": 34,
   "metadata": {
    "slideshow": {
     "slide_type": "-"
    }
   },
   "outputs": [
    {
     "data": {
      "text/plain": [
       "[[<matplotlib.lines.Line2D at 0x7fbf4a619e20>]]"
      ]
     },
     "execution_count": 34,
     "metadata": {},
     "output_type": "execute_result"
    },
    {
     "data": {
      "image/png": "[encoded data removed]",
      "text/plain": [
       "<Figure size 640x480 with 1 Axes>"
      ]
     },
     "metadata": {},
     "output_type": "display_data"
    }
   ],
   "source": [
    "nest.voltage_trace.from_device(voltmeter) "
   ]
  },
  {
   "cell_type": "markdown",
   "metadata": {
    "slideshow": {
     "slide_type": "-"
    }
   },
   "source": [
    "## Full network example"
   ]
  },
  {
   "cell_type": "code",
   "execution_count": 36,
   "metadata": {
    "slideshow": {
     "slide_type": "-"
    }
   },
   "outputs": [
    {
     "name": "stdout",
     "output_type": "stream",
     "text": [
      "\n",
      "Oct 11 08:32:28 NodeManager::prepare_nodes [Info]: \n",
      "    Preparing 4001 nodes for simulation.\n",
      "\n",
      "Oct 11 08:32:28 SimulationManager::start_updating_ [Info]: \n",
      "    Number of local nodes: 4001\n",
      "    Simulation time (ms): 1000\n",
      "    Number of OpenMP threads: 1\n",
      "    Number of MPI processes: 1\n",
      "\n",
      "Oct 11 08:32:28 SimulationManager::run [Info]: \n",
      "    Simulation finished.\n"
     ]
    },
    {
     "data": {
      "image/png": "[encoded data removed]",
      "text/plain": [
       "<Figure size 640x480 with 2 Axes>"
      ]
     },
     "metadata": {},
     "output_type": "display_data"
    }
   ],
   "source": [
    "import nest.raster_plot\n",
    "%matplotlib inline\n",
    "from matplotlib import pyplot as plt\n",
    "\n",
    "neuron_params = {'tau_m': 20.,\n",
    "                 'tau_syn_ex': 5.,\n",
    "                 'tau_syn_in': 20.,\n",
    "                 'E_L': -49.,\n",
    "                 'V_th': -50.,\n",
    "                 'V_reset': -60.}\n",
    "num_neurons = 4000\n",
    "num_neurons_ex = int(num_neurons * 0.8)\n",
    "num_neurons_in = num_neurons - num_neurons_ex\n",
    "\n",
    "weights_ex = 6 * 0.27\n",
    "weights_in = -2 * 4.5\n",
    "\n",
    "conn_prob = 0.02\n",
    "\n",
    "nest.ResetKernel()\n",
    "\n",
    "neurons = nest.Create('iaf_psc_exp', num_neurons, params=neuron_params)\n",
    "\n",
    "spike_recorder = nest.Create('spike_recorder',\n",
    "                             params={'start': 0.,\n",
    "                                     'stop': 1000.})\n",
    "\n",
    "neurons_ex = neurons[:num_neurons_ex]\n",
    "neurons_in = neurons[num_neurons_ex:]\n",
    "\n",
    "nest.Connect(neurons_ex, neurons,\n",
    "             conn_spec={'rule': 'pairwise_bernoulli', 'p': conn_prob},\n",
    "             syn_spec={'weight': weights_ex, 'delay': 1.5})\n",
    "nest.Connect(neurons_in, neurons,\n",
    "             conn_spec={'rule': 'pairwise_bernoulli', 'p': conn_prob},\n",
    "             syn_spec={'weight': weights_in, 'delay': 1.5})\n",
    "\n",
    "nest.Connect(neurons, spike_recorder)\n",
    "\n",
    "nest.Simulate(1000.)\n",
    "\n",
    "nest.raster_plot.from_device(spike_recorder, hist=True)\n",
    "plt.show()"
   ]
  },
  {
   "cell_type": "markdown",
   "metadata": {
    "slideshow": {
     "slide_type": "slide"
    }
   },
   "source": [
    "## Now it's your turn!\n",
    "\n",
    "* Check out the [official PyNEST tutorials](https://nest-simulator.readthedocs.io/en/latest/tutorials/index.html), in particular\n",
    "  * part 1: Neurons and simple neural networks\n",
    "  * part 2: Populations of neurons\n",
    "* Create a small network of all-to-all connect neurons and couple them with strong synapses and different delays (see [here](https://nest-simulator.readthedocs.io/en/latest/guides/random_numbers.html?highlight=random%20number%20generators#randomize_connection_parameters), in particular Randomize connection parameters), drive the network to spiking with neuron parameter `I_e`. What happens if you use excitatory, what happens if you use inhibitory synapses (if they are sufficiently strong)"
   ]
  },
  {
   "cell_type": "code",
   "execution_count": null,
   "metadata": {},
   "outputs": [],
   "source": []
  }
 ],
 "metadata": {
  "kernelspec": {
   "display_name": "EBRAINS-24.04",
   "language": "python",
   "name": "ebrains-24.04"
  },
  "language_info": {
   "codemirror_mode": {
    "name": "ipython",
    "version": 3
   },
   "file_extension": ".py",
   "mimetype": "text/x-python",
   "name": "python",
   "nbconvert_exporter": "python",
   "pygments_lexer": "ipython3",
   "version": "3.8.11"
  },
  "livereveal": {
   "scroll": true
  }
 },
 "nbformat": 4,
 "nbformat_minor": 4
}
