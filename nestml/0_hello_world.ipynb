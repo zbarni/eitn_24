{
 "cells": [
  {
   "cell_type": "code",
   "execution_count": 1,
   "id": "44bb675d-9ff9-44fd-8030-4fa7d8c9b3f0",
   "metadata": {},
   "outputs": [
    {
     "name": "stdout",
     "output_type": "stream",
     "text": [
      "\n",
      "              -- N E S T --\n",
      "  Copyright (C) 2004 The NEST Initiative\n",
      "\n",
      " Version: 3.7.0\n",
      " Built: Oct 17 2024 06:44:00\n",
      "\n",
      " This program is provided AS IS and comes with\n",
      " NO WARRANTY. See the file LICENSE for details.\n",
      "\n",
      " Problems or suggestions?\n",
      "   Visit https://www.nest-simulator.org\n",
      "\n",
      " Type 'nest.help()' to find out more about NEST.\n",
      "\n"
     ]
    },
    {
     "name": "stderr",
     "output_type": "stream",
     "text": [
      "WARNING:root:PyGSL is not available. The stiffness test will be skipped.\n",
      "WARNING:root:Error when importing: No module named 'pygsl'\n"
     ]
    }
   ],
   "source": [
    "import nest                                                          # import NEST module\n",
    "import matplotlib.pyplot as plt                                      # for plotting\n",
    "from pynestml.frontend.pynestml_frontend import generate_nest_target # NESTML"
   ]
  },
  {
   "cell_type": "code",
   "execution_count": 2,
   "id": "3defdd33-a356-4eb8-908d-d8870f2a3262",
   "metadata": {},
   "outputs": [
    {
     "name": "stdout",
     "output_type": "stream",
     "text": [
      "\n",
      "              -- N E S T --\n",
      "  Copyright (C) 2004 The NEST Initiative\n",
      "\n",
      " Version: 3.7.0\n",
      " Built: Oct 17 2024 06:44:00\n",
      "\n",
      " This program is provided AS IS and comes with\n",
      " NO WARRANTY. See the file LICENSE for details.\n",
      "\n",
      " Problems or suggestions?\n",
      "   Visit https://www.nest-simulator.org\n",
      "\n",
      " Type 'nest.help()' to find out more about NEST.\n",
      "\n",
      "\u001b[33mCMake Warning (dev) at CMakeLists.txt:93 (project):\n",
      "  cmake_minimum_required() should be called prior to this top-level project()\n",
      "  call.  Please see the cmake-commands(7) manual for usage documentation of\n",
      "  both commands.\n",
      "This warning is for project developers.  Use -Wno-dev to suppress it.\n",
      "\u001b[0m\n",
      "-- The CXX compiler identification is GNU 14.1.1\n",
      "-- Detecting CXX compiler ABI info\n",
      "-- Detecting CXX compiler ABI info - done\n",
      "-- Check for working CXX compiler: /usr/bin/c++ - skipped\n",
      "-- Detecting CXX compile features\n",
      "-- Detecting CXX compile features - done\n",
      "\u001b[0m\u001b[0m\n",
      "\u001b[0m-------------------------------------------------------\u001b[0m\n",
      "\u001b[0mnestmlmodule Configuration Summary\u001b[0m\n",
      "\u001b[0m-------------------------------------------------------\u001b[0m\n",
      "\u001b[0m\u001b[0m\n",
      "\u001b[0mC++ compiler         : /usr/bin/c++\u001b[0m\n",
      "\u001b[0mBuild static libs    : OFF\u001b[0m\n",
      "\u001b[0mC++ compiler flags   : \u001b[0m\n",
      "\u001b[0mNEST compiler flags  :  -std=c++17 -Wall -fopenmp -O2 -fdiagnostics-color=auto\u001b[0m\n",
      "\u001b[0mNEST include dirs    :  -I/home/zbarni/software/installed/miniconda3/envs/eitn_3.7/include/nest -I/usr/include -I/usr/include -I/usr/include\u001b[0m\n",
      "\u001b[0mNEST libraries flags : -L/home/zbarni/software/installed/miniconda3/envs/eitn_3.7/lib/nest -lnest -lsli /lib/libltdl.so /lib/libreadline.so /lib/libncurses.so /usr/lib/libgsl.so /usr/lib/libgslcblas.so    /usr/lib/libgomp.so /usr/lib/libpthread.a\u001b[0m\n",
      "\u001b[0m\u001b[0m\n",
      "\u001b[0m-------------------------------------------------------\u001b[0m\n",
      "\u001b[0m\u001b[0m\n",
      "\u001b[0mYou can now build and install 'nestmlmodule' using\u001b[0m\n",
      "\u001b[0m  make\u001b[0m\n",
      "\u001b[0m  make install\u001b[0m\n",
      "\u001b[0m\u001b[0m\n",
      "\u001b[0mThe library file libnestmlmodule.so will be installed to\u001b[0m\n",
      "\u001b[0m  /home/zbarni/code/projects/EITN_2024/nest_tutorial_eitn_24/nestml\u001b[0m\n",
      "\u001b[0mThe module can be loaded into NEST using\u001b[0m\n",
      "\u001b[0m  (nestmlmodule) Install       (in SLI)\u001b[0m\n",
      "\u001b[0m  nest.Install(nestmlmodule)   (in PyNEST)\u001b[0m\n",
      "\u001b[0m\u001b[0m\n",
      "\u001b[33mCMake Warning (dev) in CMakeLists.txt:\n",
      "  No cmake_minimum_required command is present.  A line of code such as\n",
      "\n",
      "    cmake_minimum_required(VERSION 3.29)\n",
      "\n",
      "  should be added at the top of the file.  The version specified may be lower\n",
      "  if you wish to support older CMake versions for this project.  For more\n",
      "  information run \"cmake --help-policy CMP0000\".\n",
      "This warning is for project developers.  Use -Wno-dev to suppress it.\n",
      "\u001b[0m\n",
      "-- Configuring done (0.2s)\n",
      "-- Generating done (0.0s)\n",
      "-- Build files have been written to: /home/zbarni/code/projects/EITN_2024/nest_tutorial_eitn_24/nestml/targets\n",
      "[ 66%] \u001b[32mBuilding CXX object CMakeFiles/nestmlmodule_module.dir/iaf_psc_exp_nestml.o\u001b[0m\n",
      "[ 66%] \u001b[32mBuilding CXX object CMakeFiles/nestmlmodule_module.dir/nestmlmodule.o\u001b[0m\n",
      "/home/zbarni/code/projects/EITN_2024/nest_tutorial_eitn_24/nestml/targets/iaf_psc_exp_nestml.cpp: In member function ‘void iaf_psc_exp_nestml::init_state_internal_()’:\n",
      "/home/zbarni/code/projects/EITN_2024/nest_tutorial_eitn_24/nestml/targets/iaf_psc_exp_nestml.cpp:182:16: warning: unused variable ‘__resolution’ [-Wunused-variable]\n",
      "  182 |   const double __resolution = nest::Time::get_resolution().get_ms();  // do not remove, this is necessary for the resolution() function\n",
      "      |                ^~~~~~~~~~~~\n",
      "/home/zbarni/code/projects/EITN_2024/nest_tutorial_eitn_24/nestml/targets/iaf_psc_exp_nestml.cpp: In member function ‘virtual void iaf_psc_exp_nestml::update(const nest::Time&, long int, long int)’:\n",
      "/home/zbarni/code/projects/EITN_2024/nest_tutorial_eitn_24/nestml/targets/iaf_psc_exp_nestml.cpp:320:24: warning: comparison of integer expressions of different signedness: ‘long int’ and ‘const size_t’ {aka ‘const long unsigned int’} [-Wsign-compare]\n",
      "  320 |     for (long i = 0; i < NUM_SPIKE_RECEPTORS; ++i)\n",
      "      |                      ~~^~~~~~~~~~~~~~~~~~~~~\n",
      "/home/zbarni/code/projects/EITN_2024/nest_tutorial_eitn_24/nestml/targets/iaf_psc_exp_nestml.cpp:318:10: warning: variable ‘get_t’ set but not used [-Wunused-but-set-variable]\n",
      "  318 |     auto get_t = [origin, lag](){ return nest::Time( nest::Time::step( origin.get_steps() + lag + 1) ).get_ms(); };\n",
      "      |          ^~~~~\n",
      "/home/zbarni/code/projects/EITN_2024/nest_tutorial_eitn_24/nestml/targets/iaf_psc_exp_nestml.cpp:312:16: warning: unused variable ‘__resolution’ [-Wunused-variable]\n",
      "  312 |   const double __resolution = nest::Time::get_resolution().get_ms();  // do not remove, this is necessary for the resolution() function\n",
      "      |                ^~~~~~~~~~~~\n",
      "[100%] \u001b[32m\u001b[1mLinking CXX shared module nestmlmodule.so\u001b[0m\n",
      "[100%] Built target nestmlmodule_module\n",
      "[100%] Built target nestmlmodule_module\n",
      "\u001b[36mInstall the project...\u001b[0m\n",
      "-- Install configuration: \"\"\n",
      "-- Installing: /home/zbarni/code/projects/EITN_2024/nest_tutorial_eitn_24/nestml/nestmlmodule.so\n",
      "\n",
      "Oct 17 09:05:52 Install [Info]: \n",
      "    loaded module nestmlmodule\n"
     ]
    }
   ],
   "source": [
    "# compile nestml model (needs to be done only once)\n",
    "generate_nest_target(input_path=\"models/iaf_psc_exp.nestml\",\n",
    "                     target_path=\"targets/\",\n",
    "                     suffix=\"_nestml\",                     \n",
    "                     logging_level='ERROR',\n",
    "                     install_path='.')    \n",
    "\n",
    "# install resulting NESTML module to make models available in NEST\n",
    "nest.Install('nestmlmodule') "
   ]
  },
  {
   "cell_type": "code",
   "execution_count": 3,
   "id": "b6701a91-1d23-42c4-9eca-70890e4001df",
   "metadata": {},
   "outputs": [
    {
     "name": "stdout",
     "output_type": "stream",
     "text": [
      "\n",
      "Oct 17 09:05:52 Install [Info]: \n",
      "    loaded module nestmlmodule\n",
      "\n",
      "Oct 17 09:05:52 NodeManager::prepare_nodes [Info]: \n",
      "    Preparing 3 nodes for simulation.\n",
      "\n",
      "Oct 17 09:05:52 SimulationManager::start_updating_ [Info]: \n",
      "    Number of local nodes: 3\n",
      "    Simulation time (ms): 100\n",
      "    Number of OpenMP threads: 1\n",
      "    Not using MPI\n",
      "\n",
      "Oct 17 09:05:52 SimulationManager::run [Info]: \n",
      "    Simulation finished.\n"
     ]
    },
    {
     "data": {
      "image/png": "[encoded data removed]",
      "text/plain": [
       "<Figure size 640x480 with 1 Axes>"
      ]
     },
     "metadata": {},
     "output_type": "display_data"
    }
   ],
   "source": [
    "%matplotlib inline\n",
    "nest.ResetKernel() # reset simulation kernel \n",
    "nest.Install('nestmlmodule') \n",
    "\n",
    "neuron=nest.Create('iaf_psc_exp_nestml') # create LIF neuron with exponential synaptic currents\n",
    "\n",
    "# create a spike generator, and set it up to create two spikes at 10 and 30ms\n",
    "spikegenerator=nest.Create('spike_generator', params={'spike_times': [10.,30.]}) \n",
    "\n",
    "# create multimeter and set it up to record the membrane potential V_m\n",
    "multimeter=nest.Create('multimeter', {'record_from': ['V_m']})\n",
    "\n",
    "# connect spike generator with neuron with synaptic weight 100 pA\n",
    "nest.Connect(spikegenerator, neuron,syn_spec={'weight': 50.0})\n",
    "\n",
    "# connect multimeter to the neuron\n",
    "nest.Connect(multimeter, neuron)  \n",
    "\n",
    "nest.Simulate(100.) # run simulation for 100ms\n",
    "\n",
    "# read out recording time and voltage from voltmeter\n",
    "times = multimeter.events['times']\n",
    "voltage = multimeter.events['V_m']\n",
    "\n",
    "# plot results\n",
    "plt.figure(1)\n",
    "plt.clf()\n",
    "plt.plot(times, voltage, 'k-', lw=2)\n",
    "plt.xlabel('time (ms)')\n",
    "plt.ylabel('membrane potential (mV)')\n",
    "plt.show()"
   ]
  }
 ],
 "metadata": {
  "kernelspec": {
   "display_name": "Python (eitn_3.7)",
   "language": "python",
   "name": "eitn_3.7"
  },
  "language_info": {
   "codemirror_mode": {
    "name": "ipython",
    "version": 3
   },
   "file_extension": ".py",
   "mimetype": "text/x-python",
   "name": "python",
   "nbconvert_exporter": "python",
   "pygments_lexer": "ipython3",
   "version": "3.11.0"
  }
 },
 "nbformat": 4,
 "nbformat_minor": 5
}
